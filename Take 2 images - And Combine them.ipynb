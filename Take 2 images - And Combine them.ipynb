{
 "cells": [
  {
   "cell_type": "code",
   "execution_count": 3,
   "metadata": {},
   "outputs": [],
   "source": [
    "import cv2\n",
    "import numpy\n",
    "\n",
    "home=cv2.imread(\"home.jpg\")\n",
    "minion=cv2.imread(\"minion.jpg\")\n",
    "cv2.imshow(\"Home\",home)\n",
    "cv2.imshow(\"Minion\",minion)\n",
    "cv2.waitKey()\n",
    "cv2.destroyAllWindows()\n",
    "\n",
    "minion=minion[0:405]\n",
    "home=home[:,0:360]\n",
    "\n",
    "h=numpy.hstack((home,minion))\n",
    "v=numpy.vstack((home,minion))\n",
    "cv2.imshow(\"Collage1\",h)\n",
    "cv2.imshow(\"Collage2\",v)\n",
    "cv2.waitKey()\n",
    "cv2.destroyAllWindows()"
   ]
  },
  {
   "cell_type": "code",
   "execution_count": null,
   "metadata": {},
   "outputs": [],
   "source": []
  }
 ],
 "metadata": {
  "kernelspec": {
   "display_name": "Python 3",
   "language": "python",
   "name": "python3"
  },
  "language_info": {
   "codemirror_mode": {
    "name": "ipython",
    "version": 3
   },
   "file_extension": ".py",
   "mimetype": "text/x-python",
   "name": "python",
   "nbconvert_exporter": "python",
   "pygments_lexer": "ipython3",
   "version": "3.8.3"
  }
 },
 "nbformat": 4,
 "nbformat_minor": 4
}
