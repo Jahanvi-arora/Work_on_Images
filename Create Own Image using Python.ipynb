{
 "cells": [
  {
   "cell_type": "code",
   "execution_count": 1,
   "metadata": {},
   "outputs": [],
   "source": [
    "import numpy \n",
    "import cv2\n",
    "picture=numpy.zeros([512,512,3])\n",
    "cv2.imshow('Image',picture)\n",
    "cv2.waitKey()\n",
    "cv2.destroyAllWindows()\n",
    "#CREATING IMAGE\n",
    "Image=cv2.rectangle(picture,(25,25),(300,300),[255,0,0],5)\n",
    "Image=cv2.rectangle(picture,(40,40),(280,280),[0,0,255],5)\n",
    "Image=cv2.rectangle(picture,(55,55),(260,260),[0,255,0],5)\n",
    "Image=cv2.rectangle(picture,(70,70),(240,240),[255,0,0],5)\n",
    "Image=cv2.circle(picture,(150,150),60,[255,255,255],6)\n",
    "Image=cv2.putText(picture,\"HELLO EVERYONE\",(200,360),fontFace= cv2.FONT_HERSHEY_SIMPLEX,fontScale = 1,color=[120,120,120],thickness=2)\n",
    "Image=cv2.circle(picture,(40,512),50,[0,0,255],5)\n",
    "Image=cv2.circle(picture,(100,512),50,[255,0,0],5)\n",
    "Image=cv2.circle(picture,(160,512),50,[0,255,0],5)\n",
    "Image=cv2.circle(picture,(220,512),50,[0,0,255],5)\n",
    "Image=cv2.circle(picture,(280,512),50,[255,0,0],5)\n",
    "Image=cv2.circle(picture,(340,512),50,[0,255,0],5)\n",
    "Image=cv2.circle(picture,(400,512),50,[0,0,255],5)\n",
    "Image=cv2.circle(picture,(460,512),50,[255,0,0],5)\n",
    "cv2.imshow('Image',Image)\n",
    "cv2.waitKey()\n",
    "cv2.destroyAllWindows()"
   ]
  },
  {
   "cell_type": "code",
   "execution_count": null,
   "metadata": {},
   "outputs": [],
   "source": []
  }
 ],
 "metadata": {
  "kernelspec": {
   "display_name": "Python 3",
   "language": "python",
   "name": "python3"
  },
  "language_info": {
   "codemirror_mode": {
    "name": "ipython",
    "version": 3
   },
   "file_extension": ".py",
   "mimetype": "text/x-python",
   "name": "python",
   "nbconvert_exporter": "python",
   "pygments_lexer": "ipython3",
   "version": "3.8.3"
  }
 },
 "nbformat": 4,
 "nbformat_minor": 4
}
